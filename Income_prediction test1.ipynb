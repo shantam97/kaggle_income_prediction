{
 "cells": [
  {
   "cell_type": "markdown",
   "metadata": {},
   "source": [
    "####  Case study 2\n",
    "#### Hackathon \n",
    "##### - Shantam Bhuraria \n",
    "##### - 0697\n"
   ]
  },
  {
   "cell_type": "code",
   "execution_count": 1,
   "metadata": {},
   "outputs": [],
   "source": [
    "# importing libraries for data preprocessing "
   ]
  },
  {
   "cell_type": "code",
   "execution_count": 2,
   "metadata": {},
   "outputs": [],
   "source": [
    "import pandas as pd \n",
    "import numpy as np \n",
    "import warnings\n",
    "import seaborn as sns \n",
    "import matplotlib.pyplot as plt \n",
    "from sklearn.preprocessing import StandardScaler  \n",
    "from sklearn.model_selection import train_test_split\n",
    "from sklearn.model_selection import cross_val_score"
   ]
  },
  {
   "cell_type": "markdown",
   "metadata": {},
   "source": [
    "##### Importing data , train , test ,data_description file "
   ]
  },
  {
   "cell_type": "code",
   "execution_count": 3,
   "metadata": {},
   "outputs": [],
   "source": [
    "train_df=pd.read_csv('train.csv')\n",
    "test_df=pd.read_csv('test.csv')\n",
    "df_desc=pd.read_csv('Data Description.csv')"
   ]
  },
  {
   "cell_type": "code",
   "execution_count": 4,
   "metadata": {},
   "outputs": [
    {
     "data": {
      "text/html": [
       "<div>\n",
       "<style scoped>\n",
       "    .dataframe tbody tr th:only-of-type {\n",
       "        vertical-align: middle;\n",
       "    }\n",
       "\n",
       "    .dataframe tbody tr th {\n",
       "        vertical-align: top;\n",
       "    }\n",
       "\n",
       "    .dataframe thead th {\n",
       "        text-align: right;\n",
       "    }\n",
       "</style>\n",
       "<table border=\"1\" class=\"dataframe\">\n",
       "  <thead>\n",
       "    <tr style=\"text-align: right;\">\n",
       "      <th></th>\n",
       "      <th>customerid</th>\n",
       "      <th>revised_net_salary</th>\n",
       "      <th>total_loans</th>\n",
       "      <th>tot_live</th>\n",
       "      <th>avg_tenure_closed</th>\n",
       "      <th>num_live_AL</th>\n",
       "      <th>num_closed_AL</th>\n",
       "      <th>sum_sanc_live_AL</th>\n",
       "      <th>max_sanc_live_AL</th>\n",
       "      <th>min_sanc_live_AL</th>\n",
       "      <th>...</th>\n",
       "      <th>tot_sanc_2012_PL_CL</th>\n",
       "      <th>tot_sanc_2013_PL_CL</th>\n",
       "      <th>tot_sanc_2014_PL_CL</th>\n",
       "      <th>tot_sanc_2015_PL_CL</th>\n",
       "      <th>tot_sanc_2016_PL_CL</th>\n",
       "      <th>overall_elite_flag</th>\n",
       "      <th>marital_status</th>\n",
       "      <th>dimcity_name</th>\n",
       "      <th>dimage</th>\n",
       "      <th>residencetype</th>\n",
       "    </tr>\n",
       "  </thead>\n",
       "  <tbody>\n",
       "    <tr>\n",
       "      <th>0</th>\n",
       "      <td>IN_SN_1</td>\n",
       "      <td>42375.0</td>\n",
       "      <td>7.0</td>\n",
       "      <td>4.0</td>\n",
       "      <td>428.0</td>\n",
       "      <td>NaN</td>\n",
       "      <td>1.0</td>\n",
       "      <td>NaN</td>\n",
       "      <td>NaN</td>\n",
       "      <td>NaN</td>\n",
       "      <td>...</td>\n",
       "      <td>NaN</td>\n",
       "      <td>NaN</td>\n",
       "      <td>NaN</td>\n",
       "      <td>NaN</td>\n",
       "      <td>NaN</td>\n",
       "      <td>NaN</td>\n",
       "      <td>MARRIED</td>\n",
       "      <td>PUNE</td>\n",
       "      <td>29.0</td>\n",
       "      <td>OWNED</td>\n",
       "    </tr>\n",
       "    <tr>\n",
       "      <th>1</th>\n",
       "      <td>IN_SN_2</td>\n",
       "      <td>60920.0</td>\n",
       "      <td>11.0</td>\n",
       "      <td>7.0</td>\n",
       "      <td>NaN</td>\n",
       "      <td>NaN</td>\n",
       "      <td>0.0</td>\n",
       "      <td>NaN</td>\n",
       "      <td>NaN</td>\n",
       "      <td>NaN</td>\n",
       "      <td>...</td>\n",
       "      <td>1423000.0</td>\n",
       "      <td>1423000.0</td>\n",
       "      <td>1423000.0</td>\n",
       "      <td>NaN</td>\n",
       "      <td>NaN</td>\n",
       "      <td>NaN</td>\n",
       "      <td>MARRIED</td>\n",
       "      <td>KOLKATA</td>\n",
       "      <td>32.0</td>\n",
       "      <td>RENTED</td>\n",
       "    </tr>\n",
       "    <tr>\n",
       "      <th>2</th>\n",
       "      <td>IN_SN_3</td>\n",
       "      <td>70640.0</td>\n",
       "      <td>NaN</td>\n",
       "      <td>NaN</td>\n",
       "      <td>NaN</td>\n",
       "      <td>NaN</td>\n",
       "      <td>NaN</td>\n",
       "      <td>NaN</td>\n",
       "      <td>NaN</td>\n",
       "      <td>NaN</td>\n",
       "      <td>...</td>\n",
       "      <td>NaN</td>\n",
       "      <td>NaN</td>\n",
       "      <td>NaN</td>\n",
       "      <td>NaN</td>\n",
       "      <td>NaN</td>\n",
       "      <td>NaN</td>\n",
       "      <td>MARRIED</td>\n",
       "      <td>NAGPUR</td>\n",
       "      <td>37.0</td>\n",
       "      <td>OWNED</td>\n",
       "    </tr>\n",
       "    <tr>\n",
       "      <th>3</th>\n",
       "      <td>IN_SN_4</td>\n",
       "      <td>22090.0</td>\n",
       "      <td>1.0</td>\n",
       "      <td>1.0</td>\n",
       "      <td>NaN</td>\n",
       "      <td>NaN</td>\n",
       "      <td>0.0</td>\n",
       "      <td>NaN</td>\n",
       "      <td>NaN</td>\n",
       "      <td>NaN</td>\n",
       "      <td>...</td>\n",
       "      <td>NaN</td>\n",
       "      <td>NaN</td>\n",
       "      <td>NaN</td>\n",
       "      <td>NaN</td>\n",
       "      <td>NaN</td>\n",
       "      <td>NaN</td>\n",
       "      <td>MARRIED</td>\n",
       "      <td>TULJAPUR</td>\n",
       "      <td>49.0</td>\n",
       "      <td>OTHERS</td>\n",
       "    </tr>\n",
       "    <tr>\n",
       "      <th>4</th>\n",
       "      <td>IN_SN_5</td>\n",
       "      <td>61717.0</td>\n",
       "      <td>18.0</td>\n",
       "      <td>3.0</td>\n",
       "      <td>1526.0</td>\n",
       "      <td>NaN</td>\n",
       "      <td>1.0</td>\n",
       "      <td>NaN</td>\n",
       "      <td>NaN</td>\n",
       "      <td>NaN</td>\n",
       "      <td>...</td>\n",
       "      <td>4143086.0</td>\n",
       "      <td>4143086.0</td>\n",
       "      <td>4143086.0</td>\n",
       "      <td>4143086.0</td>\n",
       "      <td>NaN</td>\n",
       "      <td>NaN</td>\n",
       "      <td>MARRIED</td>\n",
       "      <td>PUNE</td>\n",
       "      <td>38.0</td>\n",
       "      <td>OWNED</td>\n",
       "    </tr>\n",
       "  </tbody>\n",
       "</table>\n",
       "<p>5 rows × 222 columns</p>\n",
       "</div>"
      ],
      "text/plain": [
       "  customerid  revised_net_salary  total_loans  tot_live  avg_tenure_closed  \\\n",
       "0    IN_SN_1             42375.0          7.0       4.0              428.0   \n",
       "1    IN_SN_2             60920.0         11.0       7.0                NaN   \n",
       "2    IN_SN_3             70640.0          NaN       NaN                NaN   \n",
       "3    IN_SN_4             22090.0          1.0       1.0                NaN   \n",
       "4    IN_SN_5             61717.0         18.0       3.0             1526.0   \n",
       "\n",
       "   num_live_AL  num_closed_AL  sum_sanc_live_AL  max_sanc_live_AL  \\\n",
       "0          NaN            1.0               NaN               NaN   \n",
       "1          NaN            0.0               NaN               NaN   \n",
       "2          NaN            NaN               NaN               NaN   \n",
       "3          NaN            0.0               NaN               NaN   \n",
       "4          NaN            1.0               NaN               NaN   \n",
       "\n",
       "   min_sanc_live_AL  ...  tot_sanc_2012_PL_CL  tot_sanc_2013_PL_CL  \\\n",
       "0               NaN  ...                  NaN                  NaN   \n",
       "1               NaN  ...            1423000.0            1423000.0   \n",
       "2               NaN  ...                  NaN                  NaN   \n",
       "3               NaN  ...                  NaN                  NaN   \n",
       "4               NaN  ...            4143086.0            4143086.0   \n",
       "\n",
       "   tot_sanc_2014_PL_CL  tot_sanc_2015_PL_CL  tot_sanc_2016_PL_CL  \\\n",
       "0                  NaN                  NaN                  NaN   \n",
       "1            1423000.0                  NaN                  NaN   \n",
       "2                  NaN                  NaN                  NaN   \n",
       "3                  NaN                  NaN                  NaN   \n",
       "4            4143086.0            4143086.0                  NaN   \n",
       "\n",
       "   overall_elite_flag  marital_status  dimcity_name  dimage  residencetype  \n",
       "0                 NaN         MARRIED          PUNE    29.0          OWNED  \n",
       "1                 NaN         MARRIED       KOLKATA    32.0         RENTED  \n",
       "2                 NaN         MARRIED        NAGPUR    37.0          OWNED  \n",
       "3                 NaN         MARRIED      TULJAPUR    49.0         OTHERS  \n",
       "4                 NaN         MARRIED          PUNE    38.0          OWNED  \n",
       "\n",
       "[5 rows x 222 columns]"
      ]
     },
     "execution_count": 4,
     "metadata": {},
     "output_type": "execute_result"
    }
   ],
   "source": [
    "train_df.head()"
   ]
  },
  {
   "cell_type": "code",
   "execution_count": 5,
   "metadata": {},
   "outputs": [
    {
     "data": {
      "text/html": [
       "<div>\n",
       "<style scoped>\n",
       "    .dataframe tbody tr th:only-of-type {\n",
       "        vertical-align: middle;\n",
       "    }\n",
       "\n",
       "    .dataframe tbody tr th {\n",
       "        vertical-align: top;\n",
       "    }\n",
       "\n",
       "    .dataframe thead th {\n",
       "        text-align: right;\n",
       "    }\n",
       "</style>\n",
       "<table border=\"1\" class=\"dataframe\">\n",
       "  <thead>\n",
       "    <tr style=\"text-align: right;\">\n",
       "      <th></th>\n",
       "      <th>customerid</th>\n",
       "      <th>total_loans</th>\n",
       "      <th>tot_live</th>\n",
       "      <th>avg_tenure_closed</th>\n",
       "      <th>num_live_AL</th>\n",
       "      <th>num_closed_AL</th>\n",
       "      <th>sum_sanc_live_AL</th>\n",
       "      <th>max_sanc_live_AL</th>\n",
       "      <th>min_sanc_live_AL</th>\n",
       "      <th>sum_bal_live_AL</th>\n",
       "      <th>...</th>\n",
       "      <th>tot_sanc_2012_PL_CL</th>\n",
       "      <th>tot_sanc_2013_PL_CL</th>\n",
       "      <th>tot_sanc_2014_PL_CL</th>\n",
       "      <th>tot_sanc_2015_PL_CL</th>\n",
       "      <th>tot_sanc_2016_PL_CL</th>\n",
       "      <th>overall_elite_flag</th>\n",
       "      <th>marital_status</th>\n",
       "      <th>dimcity_name</th>\n",
       "      <th>dimage</th>\n",
       "      <th>residencetype</th>\n",
       "    </tr>\n",
       "  </thead>\n",
       "  <tbody>\n",
       "    <tr>\n",
       "      <th>0</th>\n",
       "      <td>IN_SN_81169</td>\n",
       "      <td>9.0</td>\n",
       "      <td>8.0</td>\n",
       "      <td>NaN</td>\n",
       "      <td>NaN</td>\n",
       "      <td>0.0</td>\n",
       "      <td>NaN</td>\n",
       "      <td>NaN</td>\n",
       "      <td>NaN</td>\n",
       "      <td>NaN</td>\n",
       "      <td>...</td>\n",
       "      <td>NaN</td>\n",
       "      <td>NaN</td>\n",
       "      <td>4212151.0</td>\n",
       "      <td>NaN</td>\n",
       "      <td>NaN</td>\n",
       "      <td>0.0</td>\n",
       "      <td>MARRIED</td>\n",
       "      <td>HYDERABAD</td>\n",
       "      <td>32.0</td>\n",
       "      <td>RENTED</td>\n",
       "    </tr>\n",
       "    <tr>\n",
       "      <th>1</th>\n",
       "      <td>IN_SN_81170</td>\n",
       "      <td>NaN</td>\n",
       "      <td>NaN</td>\n",
       "      <td>NaN</td>\n",
       "      <td>NaN</td>\n",
       "      <td>NaN</td>\n",
       "      <td>NaN</td>\n",
       "      <td>NaN</td>\n",
       "      <td>NaN</td>\n",
       "      <td>NaN</td>\n",
       "      <td>...</td>\n",
       "      <td>NaN</td>\n",
       "      <td>NaN</td>\n",
       "      <td>NaN</td>\n",
       "      <td>NaN</td>\n",
       "      <td>NaN</td>\n",
       "      <td>NaN</td>\n",
       "      <td>OTHERS</td>\n",
       "      <td>NaN</td>\n",
       "      <td>NaN</td>\n",
       "      <td>OTHERS</td>\n",
       "    </tr>\n",
       "    <tr>\n",
       "      <th>2</th>\n",
       "      <td>IN_SN_81171</td>\n",
       "      <td>2.0</td>\n",
       "      <td>2.0</td>\n",
       "      <td>NaN</td>\n",
       "      <td>NaN</td>\n",
       "      <td>0.0</td>\n",
       "      <td>NaN</td>\n",
       "      <td>NaN</td>\n",
       "      <td>NaN</td>\n",
       "      <td>NaN</td>\n",
       "      <td>...</td>\n",
       "      <td>NaN</td>\n",
       "      <td>NaN</td>\n",
       "      <td>NaN</td>\n",
       "      <td>NaN</td>\n",
       "      <td>NaN</td>\n",
       "      <td>0.0</td>\n",
       "      <td>MARRIED</td>\n",
       "      <td>COIMBATORE</td>\n",
       "      <td>39.0</td>\n",
       "      <td>RENTED</td>\n",
       "    </tr>\n",
       "    <tr>\n",
       "      <th>3</th>\n",
       "      <td>IN_SN_81172</td>\n",
       "      <td>8.0</td>\n",
       "      <td>6.0</td>\n",
       "      <td>NaN</td>\n",
       "      <td>1.0</td>\n",
       "      <td>0.0</td>\n",
       "      <td>330000.0</td>\n",
       "      <td>330000.0</td>\n",
       "      <td>330000.0</td>\n",
       "      <td>305444.0</td>\n",
       "      <td>...</td>\n",
       "      <td>NaN</td>\n",
       "      <td>NaN</td>\n",
       "      <td>2634666.0</td>\n",
       "      <td>NaN</td>\n",
       "      <td>NaN</td>\n",
       "      <td>NaN</td>\n",
       "      <td>MARRIED</td>\n",
       "      <td>PUNE</td>\n",
       "      <td>31.0</td>\n",
       "      <td>OWNED</td>\n",
       "    </tr>\n",
       "    <tr>\n",
       "      <th>4</th>\n",
       "      <td>IN_SN_81173</td>\n",
       "      <td>5.0</td>\n",
       "      <td>4.0</td>\n",
       "      <td>283.0</td>\n",
       "      <td>NaN</td>\n",
       "      <td>0.0</td>\n",
       "      <td>NaN</td>\n",
       "      <td>NaN</td>\n",
       "      <td>NaN</td>\n",
       "      <td>NaN</td>\n",
       "      <td>...</td>\n",
       "      <td>NaN</td>\n",
       "      <td>NaN</td>\n",
       "      <td>365450.0</td>\n",
       "      <td>NaN</td>\n",
       "      <td>NaN</td>\n",
       "      <td>NaN</td>\n",
       "      <td>MARRIED</td>\n",
       "      <td>CHANDIGARH</td>\n",
       "      <td>41.0</td>\n",
       "      <td>RENTED</td>\n",
       "    </tr>\n",
       "  </tbody>\n",
       "</table>\n",
       "<p>5 rows × 221 columns</p>\n",
       "</div>"
      ],
      "text/plain": [
       "    customerid  total_loans  tot_live  avg_tenure_closed  num_live_AL  \\\n",
       "0  IN_SN_81169          9.0       8.0                NaN          NaN   \n",
       "1  IN_SN_81170          NaN       NaN                NaN          NaN   \n",
       "2  IN_SN_81171          2.0       2.0                NaN          NaN   \n",
       "3  IN_SN_81172          8.0       6.0                NaN          1.0   \n",
       "4  IN_SN_81173          5.0       4.0              283.0          NaN   \n",
       "\n",
       "   num_closed_AL  sum_sanc_live_AL  max_sanc_live_AL  min_sanc_live_AL  \\\n",
       "0            0.0               NaN               NaN               NaN   \n",
       "1            NaN               NaN               NaN               NaN   \n",
       "2            0.0               NaN               NaN               NaN   \n",
       "3            0.0          330000.0          330000.0          330000.0   \n",
       "4            0.0               NaN               NaN               NaN   \n",
       "\n",
       "   sum_bal_live_AL  ...  tot_sanc_2012_PL_CL  tot_sanc_2013_PL_CL  \\\n",
       "0              NaN  ...                  NaN                  NaN   \n",
       "1              NaN  ...                  NaN                  NaN   \n",
       "2              NaN  ...                  NaN                  NaN   \n",
       "3         305444.0  ...                  NaN                  NaN   \n",
       "4              NaN  ...                  NaN                  NaN   \n",
       "\n",
       "   tot_sanc_2014_PL_CL  tot_sanc_2015_PL_CL  tot_sanc_2016_PL_CL  \\\n",
       "0            4212151.0                  NaN                  NaN   \n",
       "1                  NaN                  NaN                  NaN   \n",
       "2                  NaN                  NaN                  NaN   \n",
       "3            2634666.0                  NaN                  NaN   \n",
       "4             365450.0                  NaN                  NaN   \n",
       "\n",
       "   overall_elite_flag  marital_status  dimcity_name  dimage  residencetype  \n",
       "0                 0.0         MARRIED     HYDERABAD    32.0         RENTED  \n",
       "1                 NaN          OTHERS           NaN     NaN         OTHERS  \n",
       "2                 0.0         MARRIED    COIMBATORE    39.0         RENTED  \n",
       "3                 NaN         MARRIED          PUNE    31.0          OWNED  \n",
       "4                 NaN         MARRIED    CHANDIGARH    41.0         RENTED  \n",
       "\n",
       "[5 rows x 221 columns]"
      ]
     },
     "execution_count": 5,
     "metadata": {},
     "output_type": "execute_result"
    }
   ],
   "source": [
    "test_df.head()"
   ]
  },
  {
   "cell_type": "markdown",
   "metadata": {},
   "source": [
    "####  Target Variable is ' revised_net_salary '"
   ]
  },
  {
   "cell_type": "code",
   "execution_count": 6,
   "metadata": {},
   "outputs": [
    {
     "data": {
      "text/html": [
       "<div>\n",
       "<style scoped>\n",
       "    .dataframe tbody tr th:only-of-type {\n",
       "        vertical-align: middle;\n",
       "    }\n",
       "\n",
       "    .dataframe tbody tr th {\n",
       "        vertical-align: top;\n",
       "    }\n",
       "\n",
       "    .dataframe thead th {\n",
       "        text-align: right;\n",
       "    }\n",
       "</style>\n",
       "<table border=\"1\" class=\"dataframe\">\n",
       "  <thead>\n",
       "    <tr style=\"text-align: right;\">\n",
       "      <th></th>\n",
       "      <th>Column name</th>\n",
       "      <th>Description</th>\n",
       "    </tr>\n",
       "  </thead>\n",
       "  <tbody>\n",
       "    <tr>\n",
       "      <th>0</th>\n",
       "      <td>customerid</td>\n",
       "      <td>ID of the customer</td>\n",
       "    </tr>\n",
       "    <tr>\n",
       "      <th>1</th>\n",
       "      <td>revised_net_salary(y)</td>\n",
       "      <td>Target variable: Salary of the individual</td>\n",
       "    </tr>\n",
       "    <tr>\n",
       "      <th>2</th>\n",
       "      <td>total_loans</td>\n",
       "      <td>Total number of loan availed</td>\n",
       "    </tr>\n",
       "    <tr>\n",
       "      <th>3</th>\n",
       "      <td>tot_live</td>\n",
       "      <td>Total number of loans live(Yet to settle)</td>\n",
       "    </tr>\n",
       "    <tr>\n",
       "      <th>4</th>\n",
       "      <td>avg_tenure_closed</td>\n",
       "      <td>Average of the time it took the person to clo...</td>\n",
       "    </tr>\n",
       "  </tbody>\n",
       "</table>\n",
       "</div>"
      ],
      "text/plain": [
       "              Column name                                        Description\n",
       "0             customerid                                  ID of the customer\n",
       "1  revised_net_salary(y)           Target variable: Salary of the individual\n",
       "2            total_loans                        Total number of loan availed\n",
       "3               tot_live           Total number of loans live(Yet to settle)\n",
       "4      avg_tenure_closed    Average of the time it took the person to clo..."
      ]
     },
     "execution_count": 6,
     "metadata": {},
     "output_type": "execute_result"
    }
   ],
   "source": [
    "df_desc.head()"
   ]
  },
  {
   "cell_type": "code",
   "execution_count": 4,
   "metadata": {},
   "outputs": [
    {
     "name": "stdout",
     "output_type": "stream",
     "text": [
      "<class 'pandas.core.frame.DataFrame'>\n",
      "RangeIndex: 81168 entries, 0 to 81167\n",
      "Data columns (total 222 columns):\n",
      "customerid               object\n",
      "revised_net_salary       float64\n",
      "total_loans              float64\n",
      "tot_live                 float64\n",
      "avg_tenure_closed        float64\n",
      "num_live_AL              float64\n",
      "num_closed_AL            float64\n",
      "sum_sanc_live_AL         float64\n",
      "max_sanc_live_AL         float64\n",
      "min_sanc_live_AL         float64\n",
      "sum_bal_live_AL          float64\n",
      "max_bal_live_AL          float64\n",
      "min_bal_live_AL          float64\n",
      "sum_sanc_closed_AL       float64\n",
      "max_sanc_closed_AL       float64\n",
      "min_sanc_closed_AL       float64\n",
      "sum_bal_closed_AL        float64\n",
      "max_bal_closed_AL        float64\n",
      "min_bal_closed_AL        float64\n",
      "num_2004_live_AL         float64\n",
      "num_2005_live_AL         float64\n",
      "num_2006_live_AL         float64\n",
      "num_2007_live_AL         float64\n",
      "num_2008_live_AL         float64\n",
      "num_2009_live_AL         float64\n",
      "num_2010_live_AL         float64\n",
      "num_2011_live_AL         float64\n",
      "num_2012_live_AL         float64\n",
      "num_2013_live_AL         float64\n",
      "num_2014_live_AL         float64\n",
      "num_2015_live_AL         float64\n",
      "num_2016_live_AL         float64\n",
      "tot_bal_2004_AL          float64\n",
      "tot_bal_2005_AL          float64\n",
      "tot_bal_2006_AL          float64\n",
      "tot_bal_2007_AL          float64\n",
      "tot_bal_2008_AL          float64\n",
      "tot_bal_2009_AL          float64\n",
      "tot_bal_2010_AL          float64\n",
      "tot_bal_2011_AL          float64\n",
      "tot_bal_2012_AL          float64\n",
      "tot_bal_2013_AL          float64\n",
      "tot_bal_2014_AL          float64\n",
      "tot_bal_2015_AL          float64\n",
      "tot_bal_2016_AL          float64\n",
      "tot_sanc_2004_AL         float64\n",
      "tot_sanc_2005_AL         float64\n",
      "tot_sanc_2006_AL         float64\n",
      "tot_sanc_2007_AL         float64\n",
      "tot_sanc_2008_AL         float64\n",
      "tot_sanc_2009_AL         float64\n",
      "tot_sanc_2010_AL         float64\n",
      "tot_sanc_2011_AL         float64\n",
      "tot_sanc_2012_AL         float64\n",
      "tot_sanc_2013_AL         float64\n",
      "tot_sanc_2014_AL         float64\n",
      "tot_sanc_2015_AL         float64\n",
      "tot_sanc_2016_AL         float64\n",
      "num_live_BL              float64\n",
      "num_closed_BL            float64\n",
      "sum_sanc_live_BL         float64\n",
      "max_sanc_live_BL         float64\n",
      "min_sanc_live_BL         float64\n",
      "sum_bal_live_BL          float64\n",
      "max_bal_live_BL          float64\n",
      "min_bal_live_BL          float64\n",
      "sum_sanc_closed_BL       float64\n",
      "max_sanc_closed_BL       float64\n",
      "min_sanc_closed_BL       float64\n",
      "sum_bal_closed_BL        float64\n",
      "max_bal_closed_BL        float64\n",
      "min_bal_closed_BL        float64\n",
      "num_2004_live_BL         float64\n",
      "num_2005_live_BL         float64\n",
      "num_2006_live_BL         float64\n",
      "num_2007_live_BL         float64\n",
      "num_2008_live_BL         float64\n",
      "num_2009_live_BL         float64\n",
      "num_2010_live_BL         float64\n",
      "num_2011_live_BL         float64\n",
      "num_2012_live_BL         float64\n",
      "num_2013_live_BL         float64\n",
      "num_2014_live_BL         float64\n",
      "num_2015_live_BL         float64\n",
      "num_2016_live_BL         float64\n",
      "tot_bal_2004_BL          float64\n",
      "tot_bal_2005_BL          float64\n",
      "tot_bal_2006_BL          float64\n",
      "tot_bal_2007_BL          float64\n",
      "tot_bal_2008_BL          float64\n",
      "tot_bal_2009_BL          float64\n",
      "tot_bal_2010_BL          float64\n",
      "tot_bal_2011_BL          float64\n",
      "tot_bal_2012_BL          float64\n",
      "tot_bal_2013_BL          float64\n",
      "tot_bal_2014_BL          float64\n",
      "tot_bal_2015_BL          float64\n",
      "tot_bal_2016_BL          float64\n",
      "tot_sanc_2004_BL         float64\n",
      "tot_sanc_2005_BL         float64\n",
      "tot_sanc_2006_BL         float64\n",
      "tot_sanc_2007_BL         float64\n",
      "tot_sanc_2008_BL         float64\n",
      "tot_sanc_2009_BL         float64\n",
      "tot_sanc_2010_BL         float64\n",
      "tot_sanc_2011_BL         float64\n",
      "tot_sanc_2012_BL         float64\n",
      "tot_sanc_2013_BL         float64\n",
      "tot_sanc_2014_BL         float64\n",
      "tot_sanc_2015_BL         float64\n",
      "tot_sanc_2016_BL         float64\n",
      "num_live_HL              float64\n",
      "num_closed_HL            float64\n",
      "sum_sanc_live_HL         float64\n",
      "max_sanc_live_HL         float64\n",
      "min_sanc_live_HL         float64\n",
      "sum_bal_live_HL          float64\n",
      "max_bal_live_HL          float64\n",
      "min_bal_live_HL          float64\n",
      "sum_sanc_closed_HL       float64\n",
      "max_sanc_closed_HL       float64\n",
      "min_sanc_closed_HL       float64\n",
      "sum_bal_closed_HL        float64\n",
      "max_bal_closed_HL        float64\n",
      "min_bal_closed_HL        float64\n",
      "num_2004_live_HL         float64\n",
      "num_2005_live_HL         float64\n",
      "num_2006_live_HL         float64\n",
      "num_2007_live_HL         float64\n",
      "num_2008_live_HL         float64\n",
      "num_2009_live_HL         float64\n",
      "num_2010_live_HL         float64\n",
      "num_2011_live_HL         float64\n",
      "num_2012_live_HL         float64\n",
      "num_2013_live_HL         float64\n",
      "num_2014_live_HL         float64\n",
      "num_2015_live_HL         float64\n",
      "num_2016_live_HL         float64\n",
      "tot_bal_2004_HL          float64\n",
      "tot_bal_2005_HL          float64\n",
      "tot_bal_2006_HL          float64\n",
      "tot_bal_2007_HL          float64\n",
      "tot_bal_2008_HL          float64\n",
      "tot_bal_2009_HL          float64\n",
      "tot_bal_2010_HL          float64\n",
      "tot_bal_2011_HL          float64\n",
      "tot_bal_2012_HL          float64\n",
      "tot_bal_2013_HL          float64\n",
      "tot_bal_2014_HL          float64\n",
      "tot_bal_2015_HL          float64\n",
      "tot_bal_2016_HL          float64\n",
      "tot_sanc_2004_HL         float64\n",
      "tot_sanc_2005_HL         float64\n",
      "tot_sanc_2006_HL         float64\n",
      "tot_sanc_2007_HL         float64\n",
      "tot_sanc_2008_HL         float64\n",
      "tot_sanc_2009_HL         float64\n",
      "tot_sanc_2010_HL         float64\n",
      "tot_sanc_2011_HL         float64\n",
      "tot_sanc_2012_HL         float64\n",
      "tot_sanc_2013_HL         float64\n",
      "tot_sanc_2014_HL         float64\n",
      "tot_sanc_2015_HL         float64\n",
      "tot_sanc_2016_HL         float64\n",
      "num_live_PL_CL           float64\n",
      "num_closed_PL_CL         float64\n",
      "sum_sanc_live_PL_CL      float64\n",
      "max_sanc_live_PL_CL      float64\n",
      "min_sanc_live_PL_CL      float64\n",
      "sum_bal_live_PL_CL       float64\n",
      "max_bal_live_PL_CL       float64\n",
      "min_bal_live_PL_CL       float64\n",
      "sum_sanc_closed_PL_CL    float64\n",
      "max_sanc_closed_PL_CL    float64\n",
      "min_sanc_closed_PL_CL    float64\n",
      "sum_bal_closed_PL_CL     float64\n",
      "max_bal_closed_PL_CL     float64\n",
      "min_bal_closed_PL_CL     float64\n",
      "num_2004_live_PL_CL      float64\n",
      "num_2005_live_PL_CL      float64\n",
      "num_2006_live_PL_CL      float64\n",
      "num_2007_live_PL_CL      float64\n",
      "num_2008_live_PL_CL      float64\n",
      "num_2009_live_PL_CL      float64\n",
      "num_2010_live_PL_CL      float64\n",
      "num_2011_live_PL_CL      float64\n",
      "num_2012_live_PL_CL      float64\n",
      "num_2013_live_PL_CL      float64\n",
      "num_2014_live_PL_CL      float64\n",
      "num_2015_live_PL_CL      float64\n",
      "num_2016_live_PL_CL      float64\n",
      "tot_bal_2004_PL_CL       float64\n",
      "tot_bal_2005_PL_CL       float64\n",
      "tot_bal_2006_PL_CL       float64\n",
      "tot_bal_2007_PL_CL       float64\n",
      "tot_bal_2008_PL_CL       float64\n",
      "tot_bal_2009_PL_CL       float64\n",
      "tot_bal_2010_PL_CL       float64\n",
      "tot_bal_2011_PL_CL       float64\n",
      "tot_bal_2012_PL_CL       float64\n",
      "tot_bal_2013_PL_CL       float64\n",
      "tot_bal_2014_PL_CL       float64\n",
      "tot_bal_2015_PL_CL       float64\n",
      "tot_bal_2016_PL_CL       float64\n",
      "tot_sanc_2004_PL_CL      float64\n",
      "tot_sanc_2005_PL_CL      float64\n",
      "tot_sanc_2006_PL_CL      float64\n",
      "tot_sanc_2007_PL_CL      float64\n",
      "tot_sanc_2008_PL_CL      float64\n",
      "tot_sanc_2009_PL_CL      float64\n",
      "tot_sanc_2010_PL_CL      float64\n",
      "tot_sanc_2011_PL_CL      float64\n",
      "tot_sanc_2012_PL_CL      float64\n",
      "tot_sanc_2013_PL_CL      float64\n",
      "tot_sanc_2014_PL_CL      float64\n",
      "tot_sanc_2015_PL_CL      float64\n",
      "tot_sanc_2016_PL_CL      float64\n",
      "overall_elite_flag       float64\n",
      "marital_status           object\n",
      "dimcity_name             object\n",
      "dimage                   float64\n",
      "residencetype            object\n",
      "dtypes: float64(218), object(4)\n",
      "memory usage: 137.5+ MB\n"
     ]
    }
   ],
   "source": [
    "# Check columns\n",
    "train_df.info(verbose=True)"
   ]
  },
  {
   "cell_type": "code",
   "execution_count": 5,
   "metadata": {},
   "outputs": [
    {
     "name": "stdout",
     "output_type": "stream",
     "text": [
      "Number of duplicate rows = 0\n"
     ]
    }
   ],
   "source": [
    "# checking for duplicate values\n",
    "dups=train_df.duplicated()\n",
    "print('Number of duplicate rows = %d' % (dups.sum()))\n"
   ]
  },
  {
   "cell_type": "markdown",
   "metadata": {},
   "source": [
    "#### Finding the missing values and removing the coulmn if the percentage is greater than 30%"
   ]
  },
  {
   "cell_type": "code",
   "execution_count": 6,
   "metadata": {},
   "outputs": [],
   "source": [
    "percent_missing = train_df.isnull().sum() * 100 / len(train_df)\n",
    "# adding the missing percentage along with the column in new data frame\n",
    "missing_value_df = pd.DataFrame({'column_name': train_df.columns,\n",
    "                                 'percent_missing': percent_missing})"
   ]
  },
  {
   "cell_type": "code",
   "execution_count": 7,
   "metadata": {},
   "outputs": [
    {
     "data": {
      "text/html": [
       "<div>\n",
       "<style scoped>\n",
       "    .dataframe tbody tr th:only-of-type {\n",
       "        vertical-align: middle;\n",
       "    }\n",
       "\n",
       "    .dataframe tbody tr th {\n",
       "        vertical-align: top;\n",
       "    }\n",
       "\n",
       "    .dataframe thead th {\n",
       "        text-align: right;\n",
       "    }\n",
       "</style>\n",
       "<table border=\"1\" class=\"dataframe\">\n",
       "  <thead>\n",
       "    <tr style=\"text-align: right;\">\n",
       "      <th></th>\n",
       "      <th>column_name</th>\n",
       "      <th>percent_missing</th>\n",
       "    </tr>\n",
       "  </thead>\n",
       "  <tbody>\n",
       "    <tr>\n",
       "      <th>customerid</th>\n",
       "      <td>customerid</td>\n",
       "      <td>0.000000</td>\n",
       "    </tr>\n",
       "    <tr>\n",
       "      <th>revised_net_salary</th>\n",
       "      <td>revised_net_salary</td>\n",
       "      <td>0.000000</td>\n",
       "    </tr>\n",
       "    <tr>\n",
       "      <th>total_loans</th>\n",
       "      <td>total_loans</td>\n",
       "      <td>6.551843</td>\n",
       "    </tr>\n",
       "    <tr>\n",
       "      <th>tot_live</th>\n",
       "      <td>tot_live</td>\n",
       "      <td>6.551843</td>\n",
       "    </tr>\n",
       "    <tr>\n",
       "      <th>avg_tenure_closed</th>\n",
       "      <td>avg_tenure_closed</td>\n",
       "      <td>44.367238</td>\n",
       "    </tr>\n",
       "  </tbody>\n",
       "</table>\n",
       "</div>"
      ],
      "text/plain": [
       "                           column_name  percent_missing\n",
       "customerid                  customerid         0.000000\n",
       "revised_net_salary  revised_net_salary         0.000000\n",
       "total_loans                total_loans         6.551843\n",
       "tot_live                      tot_live         6.551843\n",
       "avg_tenure_closed    avg_tenure_closed        44.367238"
      ]
     },
     "execution_count": 7,
     "metadata": {},
     "output_type": "execute_result"
    }
   ],
   "source": [
    "missing_value_df.head()"
   ]
  },
  {
   "cell_type": "code",
   "execution_count": 8,
   "metadata": {},
   "outputs": [],
   "source": [
    "# Getting column list where the missing values are greater than 30%\n",
    "column_list=[]\n",
    "for i, j in missing_value_df.iterrows():\n",
    "    if j.percent_missing>30 :\n",
    "        column_list.append(j.column_name)\n",
    "    else: \n",
    "        continue\n",
    "    "
   ]
  },
  {
   "cell_type": "markdown",
   "metadata": {},
   "source": [
    "####  Removing the column values whose values are greater than 30 %"
   ]
  },
  {
   "cell_type": "code",
   "execution_count": 9,
   "metadata": {},
   "outputs": [],
   "source": [
    "train_df.drop(column_list,axis=1,inplace=True)\n",
    "\n",
    "test_df.drop(column_list,axis=1,inplace=True)"
   ]
  },
  {
   "cell_type": "code",
   "execution_count": null,
   "metadata": {},
   "outputs": [],
   "source": []
  },
  {
   "cell_type": "markdown",
   "metadata": {},
   "source": [
    "#### Filling the null values "
   ]
  },
  {
   "cell_type": "code",
   "execution_count": 10,
   "metadata": {},
   "outputs": [],
   "source": [
    "# filling null values \n",
    "# train dataset \n",
    "for i in train_df.columns:\n",
    "    if(train_df[i].dtypes =='object'):\n",
    "        train_df[i].fillna(train_df[i].mode()[0],inplace=True)\n",
    "        \n",
    "    else:\n",
    "        train_df[i].fillna(int(train_df[i].mean()),inplace=True)\n"
   ]
  },
  {
   "cell_type": "code",
   "execution_count": 11,
   "metadata": {},
   "outputs": [],
   "source": [
    "# filling null values\n",
    "# test data set \n",
    "for i in test_df.columns:\n",
    "    if(test_df[i].dtypes =='object'):\n",
    "        test_df[i].fillna(test_df[i].mode()[0],inplace=True)\n",
    "    else:\n",
    "        test_df[i].fillna(int(test_df[i].mean()),inplace=True)"
   ]
  },
  {
   "cell_type": "code",
   "execution_count": null,
   "metadata": {},
   "outputs": [],
   "source": []
  },
  {
   "cell_type": "code",
   "execution_count": 12,
   "metadata": {},
   "outputs": [
    {
     "name": "stdout",
     "output_type": "stream",
     "text": [
      "<class 'pandas.core.frame.DataFrame'>\n",
      "RangeIndex: 81168 entries, 0 to 81167\n",
      "Data columns (total 77 columns):\n",
      "customerid               81168 non-null object\n",
      "revised_net_salary       81168 non-null float64\n",
      "total_loans              81168 non-null float64\n",
      "tot_live                 81168 non-null float64\n",
      "num_closed_AL            81168 non-null float64\n",
      "num_2004_live_AL         81168 non-null float64\n",
      "num_2005_live_AL         81168 non-null float64\n",
      "num_2006_live_AL         81168 non-null float64\n",
      "num_2007_live_AL         81168 non-null float64\n",
      "num_2008_live_AL         81168 non-null float64\n",
      "num_2009_live_AL         81168 non-null float64\n",
      "num_2010_live_AL         81168 non-null float64\n",
      "num_2011_live_AL         81168 non-null float64\n",
      "num_2012_live_AL         81168 non-null float64\n",
      "num_2013_live_AL         81168 non-null float64\n",
      "num_2014_live_AL         81168 non-null float64\n",
      "num_2015_live_AL         81168 non-null float64\n",
      "num_2016_live_AL         81168 non-null float64\n",
      "num_closed_BL            81168 non-null float64\n",
      "num_2004_live_BL         81168 non-null float64\n",
      "num_2005_live_BL         81168 non-null float64\n",
      "num_2006_live_BL         81168 non-null float64\n",
      "num_2007_live_BL         81168 non-null float64\n",
      "num_2008_live_BL         81168 non-null float64\n",
      "num_2009_live_BL         81168 non-null float64\n",
      "num_2010_live_BL         81168 non-null float64\n",
      "num_2011_live_BL         81168 non-null float64\n",
      "num_2012_live_BL         81168 non-null float64\n",
      "num_2013_live_BL         81168 non-null float64\n",
      "num_2014_live_BL         81168 non-null float64\n",
      "num_2015_live_BL         81168 non-null float64\n",
      "num_2016_live_BL         81168 non-null float64\n",
      "num_closed_HL            81168 non-null float64\n",
      "num_2004_live_HL         81168 non-null float64\n",
      "num_2005_live_HL         81168 non-null float64\n",
      "num_2006_live_HL         81168 non-null float64\n",
      "num_2007_live_HL         81168 non-null float64\n",
      "num_2008_live_HL         81168 non-null float64\n",
      "num_2009_live_HL         81168 non-null float64\n",
      "num_2010_live_HL         81168 non-null float64\n",
      "num_2011_live_HL         81168 non-null float64\n",
      "num_2012_live_HL         81168 non-null float64\n",
      "num_2013_live_HL         81168 non-null float64\n",
      "num_2014_live_HL         81168 non-null float64\n",
      "num_2015_live_HL         81168 non-null float64\n",
      "num_2016_live_HL         81168 non-null float64\n",
      "num_live_PL_CL           81168 non-null float64\n",
      "num_closed_PL_CL         81168 non-null float64\n",
      "sum_sanc_live_PL_CL      81168 non-null float64\n",
      "max_sanc_live_PL_CL      81168 non-null float64\n",
      "min_sanc_live_PL_CL      81168 non-null float64\n",
      "sum_bal_live_PL_CL       81168 non-null float64\n",
      "max_bal_live_PL_CL       81168 non-null float64\n",
      "min_bal_live_PL_CL       81168 non-null float64\n",
      "sum_sanc_closed_PL_CL    81168 non-null float64\n",
      "max_sanc_closed_PL_CL    81168 non-null float64\n",
      "min_sanc_closed_PL_CL    81168 non-null float64\n",
      "sum_bal_closed_PL_CL     81168 non-null float64\n",
      "max_bal_closed_PL_CL     81168 non-null float64\n",
      "min_bal_closed_PL_CL     81168 non-null float64\n",
      "num_2004_live_PL_CL      81168 non-null float64\n",
      "num_2005_live_PL_CL      81168 non-null float64\n",
      "num_2006_live_PL_CL      81168 non-null float64\n",
      "num_2007_live_PL_CL      81168 non-null float64\n",
      "num_2008_live_PL_CL      81168 non-null float64\n",
      "num_2009_live_PL_CL      81168 non-null float64\n",
      "num_2010_live_PL_CL      81168 non-null float64\n",
      "num_2011_live_PL_CL      81168 non-null float64\n",
      "num_2012_live_PL_CL      81168 non-null float64\n",
      "num_2013_live_PL_CL      81168 non-null float64\n",
      "num_2014_live_PL_CL      81168 non-null float64\n",
      "num_2015_live_PL_CL      81168 non-null float64\n",
      "num_2016_live_PL_CL      81168 non-null float64\n",
      "marital_status           81168 non-null object\n",
      "dimcity_name             81168 non-null object\n",
      "dimage                   81168 non-null float64\n",
      "residencetype            81168 non-null object\n",
      "dtypes: float64(73), object(4)\n",
      "memory usage: 47.7+ MB\n"
     ]
    }
   ],
   "source": [
    "# Checking for object data type column \n",
    "train_df.info(verbose=True)"
   ]
  },
  {
   "cell_type": "code",
   "execution_count": 13,
   "metadata": {},
   "outputs": [],
   "source": [
    "# dropping coustomer id and city name since there are multiple cities and creating a dummy or encoding them will just increase columns.\n",
    "train_df.drop(['customerid','dimcity_name'],axis=1,inplace=True)\n",
    "\n",
    "test_df.drop(['customerid','dimcity_name'],axis=1,inplace=True)"
   ]
  },
  {
   "cell_type": "markdown",
   "metadata": {},
   "source": [
    "####  Defining the target variable Y "
   ]
  },
  {
   "cell_type": "code",
   "execution_count": 14,
   "metadata": {},
   "outputs": [],
   "source": [
    "y = train_df['revised_net_salary']\n",
    "train_df.drop(['revised_net_salary'],axis=1,inplace=True) # droping the column from the final training data "
   ]
  },
  {
   "cell_type": "code",
   "execution_count": null,
   "metadata": {},
   "outputs": [],
   "source": []
  },
  {
   "cell_type": "code",
   "execution_count": 15,
   "metadata": {},
   "outputs": [],
   "source": [
    "# Creating dummy variable for object datatype column "
   ]
  },
  {
   "cell_type": "code",
   "execution_count": 16,
   "metadata": {},
   "outputs": [
    {
     "name": "stdout",
     "output_type": "stream",
     "text": [
      "marital_status\n",
      "residencetype\n"
     ]
    }
   ],
   "source": [
    "for i in train_df.columns:\n",
    "    if (train_df[i].dtype=='object'):\n",
    "        print(i)"
   ]
  },
  {
   "cell_type": "code",
   "execution_count": 17,
   "metadata": {},
   "outputs": [],
   "source": [
    "train_dummy = pd.get_dummies(train_df[['marital_status','residencetype']])\n",
    "test_dummy = pd.get_dummies(test_df[['marital_status','residencetype']])"
   ]
  },
  {
   "cell_type": "markdown",
   "metadata": {},
   "source": [
    "#### Checking for missing columns "
   ]
  },
  {
   "cell_type": "code",
   "execution_count": 18,
   "metadata": {},
   "outputs": [
    {
     "data": {
      "text/plain": [
       "set()"
      ]
     },
     "execution_count": 18,
     "metadata": {},
     "output_type": "execute_result"
    }
   ],
   "source": [
    "data_missing = set(train_dummy.columns)-set(test_dummy.columns)\n",
    "data_missing"
   ]
  },
  {
   "cell_type": "code",
   "execution_count": null,
   "metadata": {},
   "outputs": [],
   "source": []
  },
  {
   "cell_type": "markdown",
   "metadata": {},
   "source": [
    "#### removing all the columns having object data type and we have already created dummy for it "
   ]
  },
  {
   "cell_type": "code",
   "execution_count": 19,
   "metadata": {},
   "outputs": [],
   "source": [
    "train_df.drop(['marital_status','residencetype'],axis=1,inplace=True)\n",
    "test_df.drop(['marital_status','residencetype'],axis=1,inplace=True)"
   ]
  },
  {
   "cell_type": "code",
   "execution_count": 20,
   "metadata": {},
   "outputs": [],
   "source": [
    "final_train=pd.concat([train_df,train_dummy],axis=1)\n",
    "final_test=pd.concat([test_df,test_dummy],axis=1)"
   ]
  },
  {
   "cell_type": "code",
   "execution_count": 21,
   "metadata": {},
   "outputs": [
    {
     "name": "stdout",
     "output_type": "stream",
     "text": [
      "(81168, 78)\n",
      "(34786, 78)\n"
     ]
    }
   ],
   "source": [
    "print(final_train.shape)\n",
    "print(final_test.shape)"
   ]
  },
  {
   "cell_type": "code",
   "execution_count": 22,
   "metadata": {},
   "outputs": [],
   "source": [
    "# Final Summary of the data frame with missing values , Unique values and data type "
   ]
  },
  {
   "cell_type": "code",
   "execution_count": 23,
   "metadata": {},
   "outputs": [
    {
     "data": {
      "text/html": [
       "<div>\n",
       "<style scoped>\n",
       "    .dataframe tbody tr th:only-of-type {\n",
       "        vertical-align: middle;\n",
       "    }\n",
       "\n",
       "    .dataframe tbody tr th {\n",
       "        vertical-align: top;\n",
       "    }\n",
       "\n",
       "    .dataframe thead th {\n",
       "        text-align: right;\n",
       "    }\n",
       "</style>\n",
       "<table border=\"1\" class=\"dataframe\">\n",
       "  <thead>\n",
       "    <tr style=\"text-align: right;\">\n",
       "      <th></th>\n",
       "      <th>Column</th>\n",
       "      <th>Missing values</th>\n",
       "      <th>Unique values</th>\n",
       "      <th>Data type</th>\n",
       "    </tr>\n",
       "  </thead>\n",
       "  <tbody>\n",
       "    <tr>\n",
       "      <th>0</th>\n",
       "      <td>total_loans</td>\n",
       "      <td>0</td>\n",
       "      <td>99</td>\n",
       "      <td>float64</td>\n",
       "    </tr>\n",
       "    <tr>\n",
       "      <th>1</th>\n",
       "      <td>tot_live</td>\n",
       "      <td>0</td>\n",
       "      <td>40</td>\n",
       "      <td>float64</td>\n",
       "    </tr>\n",
       "    <tr>\n",
       "      <th>2</th>\n",
       "      <td>num_closed_AL</td>\n",
       "      <td>0</td>\n",
       "      <td>14</td>\n",
       "      <td>float64</td>\n",
       "    </tr>\n",
       "    <tr>\n",
       "      <th>3</th>\n",
       "      <td>num_2004_live_AL</td>\n",
       "      <td>0</td>\n",
       "      <td>6</td>\n",
       "      <td>float64</td>\n",
       "    </tr>\n",
       "    <tr>\n",
       "      <th>4</th>\n",
       "      <td>num_2005_live_AL</td>\n",
       "      <td>0</td>\n",
       "      <td>6</td>\n",
       "      <td>float64</td>\n",
       "    </tr>\n",
       "    <tr>\n",
       "      <th>...</th>\n",
       "      <td>...</td>\n",
       "      <td>...</td>\n",
       "      <td>...</td>\n",
       "      <td>...</td>\n",
       "    </tr>\n",
       "    <tr>\n",
       "      <th>67</th>\n",
       "      <td>num_2013_live_PL_CL</td>\n",
       "      <td>0</td>\n",
       "      <td>16</td>\n",
       "      <td>float64</td>\n",
       "    </tr>\n",
       "    <tr>\n",
       "      <th>68</th>\n",
       "      <td>num_2014_live_PL_CL</td>\n",
       "      <td>0</td>\n",
       "      <td>18</td>\n",
       "      <td>float64</td>\n",
       "    </tr>\n",
       "    <tr>\n",
       "      <th>69</th>\n",
       "      <td>num_2015_live_PL_CL</td>\n",
       "      <td>0</td>\n",
       "      <td>13</td>\n",
       "      <td>float64</td>\n",
       "    </tr>\n",
       "    <tr>\n",
       "      <th>70</th>\n",
       "      <td>num_2016_live_PL_CL</td>\n",
       "      <td>0</td>\n",
       "      <td>6</td>\n",
       "      <td>float64</td>\n",
       "    </tr>\n",
       "    <tr>\n",
       "      <th>71</th>\n",
       "      <td>dimage</td>\n",
       "      <td>0</td>\n",
       "      <td>45</td>\n",
       "      <td>float64</td>\n",
       "    </tr>\n",
       "  </tbody>\n",
       "</table>\n",
       "<p>72 rows × 4 columns</p>\n",
       "</div>"
      ],
      "text/plain": [
       "                 Column  Missing values  Unique values Data type\n",
       "0           total_loans               0             99   float64\n",
       "1              tot_live               0             40   float64\n",
       "2         num_closed_AL               0             14   float64\n",
       "3      num_2004_live_AL               0              6   float64\n",
       "4      num_2005_live_AL               0              6   float64\n",
       "..                  ...             ...            ...       ...\n",
       "67  num_2013_live_PL_CL               0             16   float64\n",
       "68  num_2014_live_PL_CL               0             18   float64\n",
       "69  num_2015_live_PL_CL               0             13   float64\n",
       "70  num_2016_live_PL_CL               0              6   float64\n",
       "71               dimage               0             45   float64\n",
       "\n",
       "[72 rows x 4 columns]"
      ]
     },
     "execution_count": 23,
     "metadata": {},
     "output_type": "execute_result"
    }
   ],
   "source": [
    "col_summary = pd.DataFrame(train_df.columns, columns = ['Column'])\n",
    "na_list = []\n",
    "unique_list = []\n",
    "dtype_list = []\n",
    "\n",
    "for col in train_df.columns:\n",
    "    na_list.append(train_df[col].isna().sum())\n",
    "    unique_list.append(train_df[col].nunique())\n",
    "    dtype_list.append(train_df[col].dtype)\n",
    "    \n",
    "col_summary['Missing values'] = na_list\n",
    "col_summary['Unique values'] = unique_list\n",
    "col_summary['Data type'] = dtype_list\n",
    "col_summary"
   ]
  },
  {
   "cell_type": "markdown",
   "metadata": {},
   "source": [
    "####  After finising the preprocessing we need to spit the dataset into train and test models "
   ]
  },
  {
   "cell_type": "markdown",
   "metadata": {},
   "source": [
    "##### Splitting the dataset"
   ]
  },
  {
   "cell_type": "code",
   "execution_count": 26,
   "metadata": {},
   "outputs": [],
   "source": [
    "from sklearn.preprocessing import StandardScaler  \n",
    "from sklearn.model_selection import train_test_split\n",
    "from sklearn.model_selection import cross_val_score\n",
    "from sklearn.feature_selection import RFE\n",
    "from sklearn.metrics import precision_recall_curve, roc_curve, auc, roc_auc_score, f1_score, plot_confusion_matrix, precision_score, recall_score\n",
    "from sklearn.metrics import accuracy_score, confusion_matrix, precision_score, recall_score, classification_report, roc_auc_score, roc_curve\n"
   ]
  },
  {
   "cell_type": "code",
   "execution_count": 27,
   "metadata": {},
   "outputs": [],
   "source": [
    "from keras.models import Sequential\n",
    "from keras.layers import Dense\n",
    "from keras.wrappers.scikit_learn import KerasRegressor\n",
    "from sklearn.model_selection import cross_val_score\n",
    "from sklearn.model_selection import KFold\n",
    "from sklearn.preprocessing import StandardScaler"
   ]
  },
  {
   "cell_type": "code",
   "execution_count": 28,
   "metadata": {},
   "outputs": [],
   "source": [
    "x=final_train"
   ]
  },
  {
   "cell_type": "code",
   "execution_count": 29,
   "metadata": {},
   "outputs": [],
   "source": [
    "X_train, X_test, y_train, y_test = train_test_split( x, y, test_size=0.4, random_state=0)"
   ]
  },
  {
   "cell_type": "code",
   "execution_count": 30,
   "metadata": {},
   "outputs": [
    {
     "data": {
      "text/plain": [
       "(48700,)"
      ]
     },
     "execution_count": 30,
     "metadata": {},
     "output_type": "execute_result"
    }
   ],
   "source": [
    "y_train.shape"
   ]
  },
  {
   "cell_type": "code",
   "execution_count": 31,
   "metadata": {},
   "outputs": [],
   "source": [
    "import keras"
   ]
  },
  {
   "cell_type": "code",
   "execution_count": 45,
   "metadata": {},
   "outputs": [],
   "source": [
    "from keras.models import Model\n",
    "from keras.layers import Activation\n",
    "from keras.layers import Dropout"
   ]
  },
  {
   "cell_type": "code",
   "execution_count": 55,
   "metadata": {},
   "outputs": [
    {
     "data": {
      "text/plain": [
       "(48700, 78)"
      ]
     },
     "execution_count": 55,
     "metadata": {},
     "output_type": "execute_result"
    }
   ],
   "source": [
    "X_train.shape"
   ]
  },
  {
   "cell_type": "code",
   "execution_count": 32,
   "metadata": {},
   "outputs": [],
   "source": [
    "def create_model():\n",
    "    model=Sequential()\n",
    "    model.add(Dense(78,input_dim=78,kernel_initializer='normal',activation='relu'))\n",
    "    model.add(Dense(64,kernel_initializer='normal',activation='relu'))\n",
    "    model.add(Dense(32,kernel_initializer='normal',activation='relu'))\n",
    "    model.add(Dense(24,kernel_initializer='normal',activation='relu'))\n",
    "    model.add(Dense(16,kernel_initializer='normal',activation='relu'))\n",
    "    model.add(Dense(8,kernel_initializer='normal',activation='relu'))\n",
    "    model.add(Dense(4,kernel_initializer='normal',activation='relu'))\n",
    "    model.add(Dense(1,kernel_initializer='normal'))\n",
    "    # Compile Model\n",
    "    model.compile(optimizer='adam', loss='mean_squared_error',metrics=['accuracy'])\n",
    "    return model"
   ]
  },
  {
   "cell_type": "code",
   "execution_count": 33,
   "metadata": {},
   "outputs": [],
   "source": [
    "X=np.array(X_train)\n",
    "Y=np.array(y_train)"
   ]
  },
  {
   "cell_type": "code",
   "execution_count": 34,
   "metadata": {},
   "outputs": [],
   "source": [
    "estimator=KerasRegressor(build_fn=create_model,epochs=30,batch_size=10,verbose=1)"
   ]
  },
  {
   "cell_type": "code",
   "execution_count": 35,
   "metadata": {},
   "outputs": [
    {
     "name": "stdout",
     "output_type": "stream",
     "text": [
      "Epoch 1/30\n",
      "4870/4870 [==============================] - 8s 1ms/step - loss: 2820453888.0000 - accuracy: 0.0000e+00\n",
      "Epoch 2/30\n",
      "4870/4870 [==============================] - 6s 1ms/step - loss: 2623602944.0000 - accuracy: 0.0000e+00\n",
      "Epoch 3/30\n",
      "4870/4870 [==============================] - 6s 1ms/step - loss: 2572055808.0000 - accuracy: 0.0000e+00\n",
      "Epoch 4/30\n",
      "4870/4870 [==============================] - 7s 1ms/step - loss: 2547543552.0000 - accuracy: 0.0000e+00\n",
      "Epoch 5/30\n",
      "4870/4870 [==============================] - 6s 1ms/step - loss: 2526151168.0000 - accuracy: 0.0000e+00\n",
      "Epoch 6/30\n",
      "4870/4870 [==============================] - 6s 1ms/step - loss: 2496923136.0000 - accuracy: 0.0000e+00\n",
      "Epoch 7/30\n",
      "4870/4870 [==============================] - 7s 1ms/step - loss: 2496103680.0000 - accuracy: 0.0000e+00\n",
      "Epoch 8/30\n",
      "4870/4870 [==============================] - 7s 1ms/step - loss: 2479454208.0000 - accuracy: 0.0000e+00\n",
      "Epoch 9/30\n",
      "4870/4870 [==============================] - 7s 1ms/step - loss: 2478015232.0000 - accuracy: 0.0000e+00\n",
      "Epoch 10/30\n",
      "4870/4870 [==============================] - 7s 1ms/step - loss: 2456809216.0000 - accuracy: 0.0000e+00\n",
      "Epoch 11/30\n",
      "4870/4870 [==============================] - 7s 1ms/step - loss: 2443565312.0000 - accuracy: 0.0000e+00\n",
      "Epoch 12/30\n",
      "4870/4870 [==============================] - 6s 1ms/step - loss: 2441521664.0000 - accuracy: 0.0000e+00\n",
      "Epoch 13/30\n",
      "4870/4870 [==============================] - 6s 1ms/step - loss: 2449664512.0000 - accuracy: 0.0000e+00\n",
      "Epoch 14/30\n",
      "4870/4870 [==============================] - 6s 1ms/step - loss: 2430579456.0000 - accuracy: 0.0000e+00\n",
      "Epoch 15/30\n",
      "4870/4870 [==============================] - 6s 1ms/step - loss: 2412747264.0000 - accuracy: 0.0000e+00\n",
      "Epoch 16/30\n",
      "4870/4870 [==============================] - 6s 1ms/step - loss: 2433668096.0000 - accuracy: 0.0000e+00\n",
      "Epoch 17/30\n",
      "4870/4870 [==============================] - 6s 1ms/step - loss: 2410280192.0000 - accuracy: 0.0000e+00\n",
      "Epoch 18/30\n",
      "4870/4870 [==============================] - 6s 1ms/step - loss: 2414623232.0000 - accuracy: 0.0000e+00\n",
      "Epoch 19/30\n",
      "4870/4870 [==============================] - 6s 1ms/step - loss: 2397358080.0000 - accuracy: 0.0000e+00\n",
      "Epoch 20/30\n",
      "4870/4870 [==============================] - 6s 1ms/step - loss: 2403155456.0000 - accuracy: 0.0000e+00\n",
      "Epoch 21/30\n",
      "4870/4870 [==============================] - 6s 1ms/step - loss: 2390201856.0000 - accuracy: 0.0000e+00\n",
      "Epoch 22/30\n",
      "4870/4870 [==============================] - 7s 1ms/step - loss: 2397417984.0000 - accuracy: 0.0000e+00\n",
      "Epoch 23/30\n",
      "4870/4870 [==============================] - 6s 1ms/step - loss: 2394314496.0000 - accuracy: 0.0000e+00\n",
      "Epoch 24/30\n",
      "4870/4870 [==============================] - 8s 2ms/step - loss: 2377764608.0000 - accuracy: 0.0000e+00\n",
      "Epoch 25/30\n",
      "4870/4870 [==============================] - 6s 1ms/step - loss: 2386490624.0000 - accuracy: 0.0000e+00\n",
      "Epoch 26/30\n",
      "4870/4870 [==============================] - 6s 1ms/step - loss: 2374528256.0000 - accuracy: 0.0000e+00\n",
      "Epoch 27/30\n",
      "4870/4870 [==============================] - 6s 1ms/step - loss: 2369261824.0000 - accuracy: 0.0000e+00\n",
      "Epoch 28/30\n",
      "4870/4870 [==============================] - 7s 1ms/step - loss: 2371123200.0000 - accuracy: 0.0000e+00\n",
      "Epoch 29/30\n",
      "4870/4870 [==============================] - 7s 1ms/step - loss: 2370483200.0000 - accuracy: 0.0000e+00\n",
      "Epoch 30/30\n",
      "4870/4870 [==============================] - 7s 1ms/step - loss: 2358867200.0000 - accuracy: 0.0000e+00\n"
     ]
    }
   ],
   "source": [
    "history=estimator.fit(X,Y)"
   ]
  },
  {
   "cell_type": "code",
   "execution_count": 37,
   "metadata": {},
   "outputs": [
    {
     "name": "stdout",
     "output_type": "stream",
     "text": [
      "3247/3247 [==============================] - 2s 677us/step\n"
     ]
    }
   ],
   "source": [
    "from sklearn.metrics import accuracy_score\n",
    "prediction=estimator.predict(X_test)"
   ]
  },
  {
   "cell_type": "code",
   "execution_count": 38,
   "metadata": {},
   "outputs": [],
   "source": [
    "train_error =  np.abs(y_test - prediction)\n",
    "mean_error = np.mean(train_error)\n",
    "min_error = np.min(train_error)\n",
    "max_error = np.max(train_error)\n",
    "std_error = np.std(train_error)"
   ]
  },
  {
   "cell_type": "code",
   "execution_count": 39,
   "metadata": {},
   "outputs": [
    {
     "name": "stdout",
     "output_type": "stream",
     "text": [
      "std_error:  38984.46030743525\n",
      "mean_error:  30989.78244405429\n",
      "min_error:  2.14453125\n",
      "max_error:  1264645.1875\n"
     ]
    }
   ],
   "source": [
    "print(\"std_error: \",std_error)\n",
    "print(\"mean_error: \",mean_error)\n",
    "print(\"min_error: \",min_error)\n",
    "print(\"max_error: \",max_error)\n"
   ]
  },
  {
   "cell_type": "markdown",
   "metadata": {},
   "source": []
  },
  {
   "cell_type": "code",
   "execution_count": 40,
   "metadata": {},
   "outputs": [],
   "source": [
    "import matplotlib.pyplot as plt"
   ]
  },
  {
   "cell_type": "code",
   "execution_count": 41,
   "metadata": {},
   "outputs": [
    {
     "data": {
      "image/png": "[encoded data removed]",
      "text/plain": [
       "<Figure size 432x288 with 1 Axes>"
      ]
     },
     "metadata": {
      "needs_background": "light"
     },
     "output_type": "display_data"
    }
   ],
   "source": [
    "plt.plot(y_test, color = 'green', label = 'Actual')\n",
    "plt.plot(prediction, color = 'blue', label = 'Predicted')\n",
    "plt.grid(alpha = 0.3)\n",
    "plt.xlabel('Number of Candidate')\n",
    "plt.ylabel('Score')\n",
    "plt.title('Actual vs Predicted')\n",
    "plt.legend()\n",
    "plt.show()\n"
   ]
  },
  {
   "cell_type": "code",
   "execution_count": 42,
   "metadata": {},
   "outputs": [
    {
     "name": "stdout",
     "output_type": "stream",
     "text": [
      "3479/3479 [==============================] - 2s 687us/step\n"
     ]
    }
   ],
   "source": [
    "preds=estimator.predict(final_test)"
   ]
  },
  {
   "cell_type": "code",
   "execution_count": 43,
   "metadata": {},
   "outputs": [],
   "source": [
    "test= pd.read_csv('test.csv')\n"
   ]
  },
  {
   "cell_type": "code",
   "execution_count": 44,
   "metadata": {},
   "outputs": [],
   "source": [
    "customerid = test['customerid']\n",
    "output = pd.DataFrame(columns=['customerid','revised_net_salary'])"
   ]
  },
  {
   "cell_type": "code",
   "execution_count": 45,
   "metadata": {},
   "outputs": [
    {
     "data": {
      "text/html": [
       "<div>\n",
       "<style scoped>\n",
       "    .dataframe tbody tr th:only-of-type {\n",
       "        vertical-align: middle;\n",
       "    }\n",
       "\n",
       "    .dataframe tbody tr th {\n",
       "        vertical-align: top;\n",
       "    }\n",
       "\n",
       "    .dataframe thead th {\n",
       "        text-align: right;\n",
       "    }\n",
       "</style>\n",
       "<table border=\"1\" class=\"dataframe\">\n",
       "  <thead>\n",
       "    <tr style=\"text-align: right;\">\n",
       "      <th></th>\n",
       "      <th>customerid</th>\n",
       "      <th>revised_net_salary</th>\n",
       "    </tr>\n",
       "  </thead>\n",
       "  <tbody>\n",
       "    <tr>\n",
       "      <th>0</th>\n",
       "      <td>IN_SN_81169</td>\n",
       "      <td>83320.875000</td>\n",
       "    </tr>\n",
       "    <tr>\n",
       "      <th>1</th>\n",
       "      <td>IN_SN_81170</td>\n",
       "      <td>50794.218750</td>\n",
       "    </tr>\n",
       "    <tr>\n",
       "      <th>2</th>\n",
       "      <td>IN_SN_81171</td>\n",
       "      <td>45161.332031</td>\n",
       "    </tr>\n",
       "    <tr>\n",
       "      <th>3</th>\n",
       "      <td>IN_SN_81172</td>\n",
       "      <td>48841.906250</td>\n",
       "    </tr>\n",
       "    <tr>\n",
       "      <th>4</th>\n",
       "      <td>IN_SN_81173</td>\n",
       "      <td>18899.943359</td>\n",
       "    </tr>\n",
       "    <tr>\n",
       "      <th>...</th>\n",
       "      <td>...</td>\n",
       "      <td>...</td>\n",
       "    </tr>\n",
       "    <tr>\n",
       "      <th>34781</th>\n",
       "      <td>IN_SN_115950</td>\n",
       "      <td>50105.457031</td>\n",
       "    </tr>\n",
       "    <tr>\n",
       "      <th>34782</th>\n",
       "      <td>IN_SN_115951</td>\n",
       "      <td>49945.542969</td>\n",
       "    </tr>\n",
       "    <tr>\n",
       "      <th>34783</th>\n",
       "      <td>IN_SN_115952</td>\n",
       "      <td>50238.468750</td>\n",
       "    </tr>\n",
       "    <tr>\n",
       "      <th>34784</th>\n",
       "      <td>IN_SN_115953</td>\n",
       "      <td>50408.863281</td>\n",
       "    </tr>\n",
       "    <tr>\n",
       "      <th>34785</th>\n",
       "      <td>IN_SN_115954</td>\n",
       "      <td>32913.558594</td>\n",
       "    </tr>\n",
       "  </tbody>\n",
       "</table>\n",
       "<p>34786 rows × 2 columns</p>\n",
       "</div>"
      ],
      "text/plain": [
       "         customerid  revised_net_salary\n",
       "0       IN_SN_81169        83320.875000\n",
       "1       IN_SN_81170        50794.218750\n",
       "2       IN_SN_81171        45161.332031\n",
       "3       IN_SN_81172        48841.906250\n",
       "4       IN_SN_81173        18899.943359\n",
       "...             ...                 ...\n",
       "34781  IN_SN_115950        50105.457031\n",
       "34782  IN_SN_115951        49945.542969\n",
       "34783  IN_SN_115952        50238.468750\n",
       "34784  IN_SN_115953        50408.863281\n",
       "34785  IN_SN_115954        32913.558594\n",
       "\n",
       "[34786 rows x 2 columns]"
      ]
     },
     "execution_count": 45,
     "metadata": {},
     "output_type": "execute_result"
    }
   ],
   "source": [
    "output['customerid'] = customerid\n",
    "output['revised_net_salary'] = preds\n",
    "\n",
    "output.to_csv('nn3.csv',index=False)\n",
    "\n",
    "output"
   ]
  },
  {
   "cell_type": "code",
   "execution_count": 46,
   "metadata": {},
   "outputs": [],
   "source": [
    "from sklearn.model_selection import StratifiedKFold"
   ]
  },
  {
   "cell_type": "code",
   "execution_count": 51,
   "metadata": {},
   "outputs": [
    {
     "data": {
      "text/plain": [
       "78"
      ]
     },
     "execution_count": 51,
     "metadata": {},
     "output_type": "execute_result"
    }
   ],
   "source": [
    "X_train.shape[1]"
   ]
  },
  {
   "cell_type": "code",
   "execution_count": 52,
   "metadata": {},
   "outputs": [],
   "source": [
    "X=np.array(X_train)"
   ]
  },
  {
   "cell_type": "code",
   "execution_count": 57,
   "metadata": {},
   "outputs": [
    {
     "data": {
      "text/plain": [
       "0        42375.0\n",
       "1        60920.0\n",
       "2        70640.0\n",
       "3        22090.0\n",
       "4        61717.0\n",
       "          ...   \n",
       "81163    63224.0\n",
       "81164    29718.0\n",
       "81165    67542.0\n",
       "81166    52506.0\n",
       "81167    43897.0\n",
       "Name: revised_net_salary, Length: 81168, dtype: float64"
      ]
     },
     "execution_count": 57,
     "metadata": {},
     "output_type": "execute_result"
    }
   ],
   "source": []
  },
  {
   "cell_type": "code",
   "execution_count": 60,
   "metadata": {},
   "outputs": [
    {
     "name": "stderr",
     "output_type": "stream",
     "text": [
      "/home/shantam/.local/lib/python3.6/site-packages/sklearn/model_selection/_split.py:667: UserWarning: The least populated class in y has only 1 members, which is less than n_splits=10.\n",
      "  % (min_groups, self.n_splits)), UserWarning)\n"
     ]
    },
    {
     "ename": "KeyboardInterrupt",
     "evalue": "",
     "output_type": "error",
     "traceback": [
      "\u001b[0;31m---------------------------------------------------------------------------\u001b[0m",
      "\u001b[0;31mKeyboardInterrupt\u001b[0m                         Traceback (most recent call last)",
      "\u001b[0;32m<ipython-input-60-b79f13d5329c>\u001b[0m in \u001b[0;36m<module>\u001b[0;34m\u001b[0m\n\u001b[1;32m     19\u001b[0m     \u001b[0mmodel\u001b[0m\u001b[0;34m.\u001b[0m\u001b[0mcompile\u001b[0m\u001b[0;34m(\u001b[0m\u001b[0mloss\u001b[0m\u001b[0;34m=\u001b[0m\u001b[0;34m'binary_crossentropy'\u001b[0m\u001b[0;34m,\u001b[0m \u001b[0moptimizer\u001b[0m\u001b[0;34m=\u001b[0m\u001b[0;34m'adam'\u001b[0m\u001b[0;34m,\u001b[0m \u001b[0mmetrics\u001b[0m\u001b[0;34m=\u001b[0m\u001b[0;34m[\u001b[0m\u001b[0;34m'accuracy'\u001b[0m\u001b[0;34m]\u001b[0m\u001b[0;34m)\u001b[0m\u001b[0;34m\u001b[0m\u001b[0;34m\u001b[0m\u001b[0m\n\u001b[1;32m     20\u001b[0m     \u001b[0;31m# Fit the model\u001b[0m\u001b[0;34m\u001b[0m\u001b[0;34m\u001b[0m\u001b[0;34m\u001b[0m\u001b[0m\n\u001b[0;32m---> 21\u001b[0;31m     \u001b[0mmodel\u001b[0m\u001b[0;34m.\u001b[0m\u001b[0mfit\u001b[0m\u001b[0;34m(\u001b[0m\u001b[0mx\u001b[0m\u001b[0;34m[\u001b[0m\u001b[0mtrain\u001b[0m\u001b[0;34m]\u001b[0m\u001b[0;34m,\u001b[0m \u001b[0my\u001b[0m\u001b[0;34m[\u001b[0m\u001b[0mtrain\u001b[0m\u001b[0;34m]\u001b[0m\u001b[0;34m,\u001b[0m \u001b[0mepochs\u001b[0m\u001b[0;34m=\u001b[0m\u001b[0;36m150\u001b[0m\u001b[0;34m,\u001b[0m \u001b[0mbatch_size\u001b[0m\u001b[0;34m=\u001b[0m\u001b[0;36m10\u001b[0m\u001b[0;34m,\u001b[0m \u001b[0mverbose\u001b[0m\u001b[0;34m=\u001b[0m\u001b[0;36m0\u001b[0m\u001b[0;34m)\u001b[0m\u001b[0;34m\u001b[0m\u001b[0;34m\u001b[0m\u001b[0m\n\u001b[0m\u001b[1;32m     22\u001b[0m     \u001b[0;31m# evaluate the model\u001b[0m\u001b[0;34m\u001b[0m\u001b[0;34m\u001b[0m\u001b[0;34m\u001b[0m\u001b[0m\n\u001b[1;32m     23\u001b[0m     \u001b[0mscores\u001b[0m \u001b[0;34m=\u001b[0m \u001b[0mmodel\u001b[0m\u001b[0;34m.\u001b[0m\u001b[0mevaluate\u001b[0m\u001b[0;34m(\u001b[0m\u001b[0mx\u001b[0m\u001b[0;34m[\u001b[0m\u001b[0mtest\u001b[0m\u001b[0;34m]\u001b[0m\u001b[0;34m,\u001b[0m \u001b[0my\u001b[0m\u001b[0;34m[\u001b[0m\u001b[0mtest\u001b[0m\u001b[0;34m]\u001b[0m\u001b[0;34m,\u001b[0m \u001b[0mverbose\u001b[0m\u001b[0;34m=\u001b[0m\u001b[0;36m0\u001b[0m\u001b[0;34m)\u001b[0m\u001b[0;34m\u001b[0m\u001b[0;34m\u001b[0m\u001b[0m\n",
      "\u001b[0;32m~/.local/lib/python3.6/site-packages/keras/engine/training.py\u001b[0m in \u001b[0;36mfit\u001b[0;34m(self, x, y, batch_size, epochs, verbose, callbacks, validation_split, validation_data, shuffle, class_weight, sample_weight, initial_epoch, steps_per_epoch, validation_steps, validation_batch_size, validation_freq, max_queue_size, workers, use_multiprocessing)\u001b[0m\n\u001b[1;32m   1182\u001b[0m                 _r=1):\n\u001b[1;32m   1183\u001b[0m               \u001b[0mcallbacks\u001b[0m\u001b[0;34m.\u001b[0m\u001b[0mon_train_batch_begin\u001b[0m\u001b[0;34m(\u001b[0m\u001b[0mstep\u001b[0m\u001b[0;34m)\u001b[0m\u001b[0;34m\u001b[0m\u001b[0;34m\u001b[0m\u001b[0m\n\u001b[0;32m-> 1184\u001b[0;31m               \u001b[0mtmp_logs\u001b[0m \u001b[0;34m=\u001b[0m \u001b[0mself\u001b[0m\u001b[0;34m.\u001b[0m\u001b[0mtrain_function\u001b[0m\u001b[0;34m(\u001b[0m\u001b[0miterator\u001b[0m\u001b[0;34m)\u001b[0m\u001b[0;34m\u001b[0m\u001b[0;34m\u001b[0m\u001b[0m\n\u001b[0m\u001b[1;32m   1185\u001b[0m               \u001b[0;32mif\u001b[0m \u001b[0mdata_handler\u001b[0m\u001b[0;34m.\u001b[0m\u001b[0mshould_sync\u001b[0m\u001b[0;34m:\u001b[0m\u001b[0;34m\u001b[0m\u001b[0;34m\u001b[0m\u001b[0m\n\u001b[1;32m   1186\u001b[0m                 \u001b[0mcontext\u001b[0m\u001b[0;34m.\u001b[0m\u001b[0masync_wait\u001b[0m\u001b[0;34m(\u001b[0m\u001b[0;34m)\u001b[0m\u001b[0;34m\u001b[0m\u001b[0;34m\u001b[0m\u001b[0m\n",
      "\u001b[0;32m~/.local/lib/python3.6/site-packages/tensorflow/python/eager/def_function.py\u001b[0m in \u001b[0;36m__call__\u001b[0;34m(self, *args, **kwds)\u001b[0m\n\u001b[1;32m    883\u001b[0m \u001b[0;34m\u001b[0m\u001b[0m\n\u001b[1;32m    884\u001b[0m       \u001b[0;32mwith\u001b[0m \u001b[0mOptionalXlaContext\u001b[0m\u001b[0;34m(\u001b[0m\u001b[0mself\u001b[0m\u001b[0;34m.\u001b[0m\u001b[0m_jit_compile\u001b[0m\u001b[0;34m)\u001b[0m\u001b[0;34m:\u001b[0m\u001b[0;34m\u001b[0m\u001b[0;34m\u001b[0m\u001b[0m\n\u001b[0;32m--> 885\u001b[0;31m         \u001b[0mresult\u001b[0m \u001b[0;34m=\u001b[0m \u001b[0mself\u001b[0m\u001b[0;34m.\u001b[0m\u001b[0m_call\u001b[0m\u001b[0;34m(\u001b[0m\u001b[0;34m*\u001b[0m\u001b[0margs\u001b[0m\u001b[0;34m,\u001b[0m \u001b[0;34m**\u001b[0m\u001b[0mkwds\u001b[0m\u001b[0;34m)\u001b[0m\u001b[0;34m\u001b[0m\u001b[0;34m\u001b[0m\u001b[0m\n\u001b[0m\u001b[1;32m    886\u001b[0m \u001b[0;34m\u001b[0m\u001b[0m\n\u001b[1;32m    887\u001b[0m       \u001b[0mnew_tracing_count\u001b[0m \u001b[0;34m=\u001b[0m \u001b[0mself\u001b[0m\u001b[0;34m.\u001b[0m\u001b[0mexperimental_get_tracing_count\u001b[0m\u001b[0;34m(\u001b[0m\u001b[0;34m)\u001b[0m\u001b[0;34m\u001b[0m\u001b[0;34m\u001b[0m\u001b[0m\n",
      "\u001b[0;32m~/.local/lib/python3.6/site-packages/tensorflow/python/eager/def_function.py\u001b[0m in \u001b[0;36m_call\u001b[0;34m(self, *args, **kwds)\u001b[0m\n\u001b[1;32m    915\u001b[0m       \u001b[0;31m# In this case we have created variables on the first call, so we run the\u001b[0m\u001b[0;34m\u001b[0m\u001b[0;34m\u001b[0m\u001b[0;34m\u001b[0m\u001b[0m\n\u001b[1;32m    916\u001b[0m       \u001b[0;31m# defunned version which is guaranteed to never create variables.\u001b[0m\u001b[0;34m\u001b[0m\u001b[0;34m\u001b[0m\u001b[0;34m\u001b[0m\u001b[0m\n\u001b[0;32m--> 917\u001b[0;31m       \u001b[0;32mreturn\u001b[0m \u001b[0mself\u001b[0m\u001b[0;34m.\u001b[0m\u001b[0m_stateless_fn\u001b[0m\u001b[0;34m(\u001b[0m\u001b[0;34m*\u001b[0m\u001b[0margs\u001b[0m\u001b[0;34m,\u001b[0m \u001b[0;34m**\u001b[0m\u001b[0mkwds\u001b[0m\u001b[0;34m)\u001b[0m  \u001b[0;31m# pylint: disable=not-callable\u001b[0m\u001b[0;34m\u001b[0m\u001b[0;34m\u001b[0m\u001b[0m\n\u001b[0m\u001b[1;32m    918\u001b[0m     \u001b[0;32melif\u001b[0m \u001b[0mself\u001b[0m\u001b[0;34m.\u001b[0m\u001b[0m_stateful_fn\u001b[0m \u001b[0;32mis\u001b[0m \u001b[0;32mnot\u001b[0m \u001b[0;32mNone\u001b[0m\u001b[0;34m:\u001b[0m\u001b[0;34m\u001b[0m\u001b[0;34m\u001b[0m\u001b[0m\n\u001b[1;32m    919\u001b[0m       \u001b[0;31m# Release the lock early so that multiple threads can perform the call\u001b[0m\u001b[0;34m\u001b[0m\u001b[0;34m\u001b[0m\u001b[0;34m\u001b[0m\u001b[0m\n",
      "\u001b[0;32m~/.local/lib/python3.6/site-packages/tensorflow/python/eager/function.py\u001b[0m in \u001b[0;36m__call__\u001b[0;34m(self, *args, **kwargs)\u001b[0m\n\u001b[1;32m   3038\u001b[0m        filtered_flat_args) = self._maybe_define_function(args, kwargs)\n\u001b[1;32m   3039\u001b[0m     return graph_function._call_flat(\n\u001b[0;32m-> 3040\u001b[0;31m         filtered_flat_args, captured_inputs=graph_function.captured_inputs)  # pylint: disable=protected-access\n\u001b[0m\u001b[1;32m   3041\u001b[0m \u001b[0;34m\u001b[0m\u001b[0m\n\u001b[1;32m   3042\u001b[0m   \u001b[0;34m@\u001b[0m\u001b[0mproperty\u001b[0m\u001b[0;34m\u001b[0m\u001b[0;34m\u001b[0m\u001b[0m\n",
      "\u001b[0;32m~/.local/lib/python3.6/site-packages/tensorflow/python/eager/function.py\u001b[0m in \u001b[0;36m_call_flat\u001b[0;34m(self, args, captured_inputs, cancellation_manager)\u001b[0m\n\u001b[1;32m   1962\u001b[0m       \u001b[0;31m# No tape is watching; skip to running the function.\u001b[0m\u001b[0;34m\u001b[0m\u001b[0;34m\u001b[0m\u001b[0;34m\u001b[0m\u001b[0m\n\u001b[1;32m   1963\u001b[0m       return self._build_call_outputs(self._inference_function.call(\n\u001b[0;32m-> 1964\u001b[0;31m           ctx, args, cancellation_manager=cancellation_manager))\n\u001b[0m\u001b[1;32m   1965\u001b[0m     forward_backward = self._select_forward_and_backward_functions(\n\u001b[1;32m   1966\u001b[0m         \u001b[0margs\u001b[0m\u001b[0;34m,\u001b[0m\u001b[0;34m\u001b[0m\u001b[0;34m\u001b[0m\u001b[0m\n",
      "\u001b[0;32m~/.local/lib/python3.6/site-packages/tensorflow/python/eager/function.py\u001b[0m in \u001b[0;36mcall\u001b[0;34m(self, ctx, args, cancellation_manager)\u001b[0m\n\u001b[1;32m    594\u001b[0m               \u001b[0minputs\u001b[0m\u001b[0;34m=\u001b[0m\u001b[0margs\u001b[0m\u001b[0;34m,\u001b[0m\u001b[0;34m\u001b[0m\u001b[0;34m\u001b[0m\u001b[0m\n\u001b[1;32m    595\u001b[0m               \u001b[0mattrs\u001b[0m\u001b[0;34m=\u001b[0m\u001b[0mattrs\u001b[0m\u001b[0;34m,\u001b[0m\u001b[0;34m\u001b[0m\u001b[0;34m\u001b[0m\u001b[0m\n\u001b[0;32m--> 596\u001b[0;31m               ctx=ctx)\n\u001b[0m\u001b[1;32m    597\u001b[0m         \u001b[0;32melse\u001b[0m\u001b[0;34m:\u001b[0m\u001b[0;34m\u001b[0m\u001b[0;34m\u001b[0m\u001b[0m\n\u001b[1;32m    598\u001b[0m           outputs = execute.execute_with_cancellation(\n",
      "\u001b[0;32m~/.local/lib/python3.6/site-packages/tensorflow/python/eager/execute.py\u001b[0m in \u001b[0;36mquick_execute\u001b[0;34m(op_name, num_outputs, inputs, attrs, ctx, name)\u001b[0m\n\u001b[1;32m     58\u001b[0m     \u001b[0mctx\u001b[0m\u001b[0;34m.\u001b[0m\u001b[0mensure_initialized\u001b[0m\u001b[0;34m(\u001b[0m\u001b[0;34m)\u001b[0m\u001b[0;34m\u001b[0m\u001b[0;34m\u001b[0m\u001b[0m\n\u001b[1;32m     59\u001b[0m     tensors = pywrap_tfe.TFE_Py_Execute(ctx._handle, device_name, op_name,\n\u001b[0;32m---> 60\u001b[0;31m                                         inputs, attrs, num_outputs)\n\u001b[0m\u001b[1;32m     61\u001b[0m   \u001b[0;32mexcept\u001b[0m \u001b[0mcore\u001b[0m\u001b[0;34m.\u001b[0m\u001b[0m_NotOkStatusException\u001b[0m \u001b[0;32mas\u001b[0m \u001b[0me\u001b[0m\u001b[0;34m:\u001b[0m\u001b[0;34m\u001b[0m\u001b[0;34m\u001b[0m\u001b[0m\n\u001b[1;32m     62\u001b[0m     \u001b[0;32mif\u001b[0m \u001b[0mname\u001b[0m \u001b[0;32mis\u001b[0m \u001b[0;32mnot\u001b[0m \u001b[0;32mNone\u001b[0m\u001b[0;34m:\u001b[0m\u001b[0;34m\u001b[0m\u001b[0;34m\u001b[0m\u001b[0m\n",
      "\u001b[0;31mKeyboardInterrupt\u001b[0m: "
     ]
    }
   ],
   "source": [
    "seed = 7\n",
    "kfold = StratifiedKFold(n_splits=10, shuffle=True, random_state=seed)\n",
    "cvscores = []\n",
    "x=np.array(x)\n",
    "y=np.array(y)\n",
    "for train, test in kfold.split(x, y):\n",
    "  # create model\n",
    "    model = Sequential()\n",
    "    model.add(Dense(72, input_dim=x.shape[1], activation='relu'))\n",
    "    model.add(Dense(64,kernel_initializer='normal',activation='relu'))\n",
    "    model.add(Dense(32,kernel_initializer='normal',activation='relu'))\n",
    "    model.add(Dense(24,kernel_initializer='normal',activation='relu'))\n",
    "    model.add(Dense(16,kernel_initializer='normal',activation='relu'))\n",
    "    model.add(Dense(8, activation='relu'))\n",
    "    model.add(Dense(4, activation='relu'))\n",
    "    model.add(Dense(2, activation='relu'))\n",
    "    model.add(Dense(1, activation='sigmoid'))\n",
    "    # Compile model\n",
    "    model.compile(loss='binary_crossentropy', optimizer='adam', metrics=['accuracy'])\n",
    "    # Fit the model\n",
    "    model.fit(x[train], y[train], epochs=150, batch_size=10, verbose=0)\n",
    "    # evaluate the model\n",
    "    scores = model.evaluate(x[test], y[test], verbose=0)\n",
    "    print(\"%s: %.2f%%\" % (model.metrics_names[1], scores[1]*100))\n",
    "    cvscores.append(scores[1] * 100)\n",
    "print(\"%.2f%% (+/- %.2f%%)\" % (numpy.mean(cvscores), numpy.std(cvscores)))"
   ]
  },
  {
   "cell_type": "code",
   "execution_count": null,
   "metadata": {},
   "outputs": [],
   "source": [
    "pred_1=model.predict(final_test)"
   ]
  },
  {
   "cell_type": "code",
   "execution_count": null,
   "metadata": {},
   "outputs": [],
   "source": [
    "test= pd.read_csv('test.csv')\n",
    "customerid = test['customerid']\n",
    "output = pd.DataFrame(columns=['customerid','revised_net_salary'])\n",
    "output['customerid'] = customerid\n",
    "output['revised_net_salary'] = pred_1\n",
    "\n",
    "output.to_csv('nn3.csv',index=False)\n",
    "\n",
    "output"
   ]
  },
  {
   "cell_type": "code",
   "execution_count": null,
   "metadata": {},
   "outputs": [],
   "source": []
  }
 ],
 "metadata": {
  "kernelspec": {
   "display_name": "Python 3",
   "language": "python",
   "name": "python3"
  },
  "language_info": {
   "codemirror_mode": {
    "name": "ipython",
    "version": 3
   },
   "file_extension": ".py",
   "mimetype": "text/x-python",
   "name": "python",
   "nbconvert_exporter": "python",
   "pygments_lexer": "ipython3",
   "version": "3.6.9"
  }
 },
 "nbformat": 4,
 "nbformat_minor": 2
}
